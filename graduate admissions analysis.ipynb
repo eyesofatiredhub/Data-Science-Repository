{
 "cells": [
  {
   "cell_type": "code",
   "execution_count": 1,
   "id": "leading-ozone",
   "metadata": {
    "_cell_guid": "b1076dfc-b9ad-4769-8c92-a6c4dae69d19",
    "_uuid": "8f2839f25d086af736a60e9eeb907d3b93b6e0e5",
    "execution": {
     "iopub.execute_input": "2021-05-29T14:34:00.564959Z",
     "iopub.status.busy": "2021-05-29T14:34:00.564103Z",
     "iopub.status.idle": "2021-05-29T14:34:01.491643Z",
     "shell.execute_reply": "2021-05-29T14:34:01.492195Z",
     "shell.execute_reply.started": "2021-05-29T11:28:39.973829Z"
    },
    "papermill": {
     "duration": 0.969376,
     "end_time": "2021-05-29T14:34:01.492534",
     "exception": false,
     "start_time": "2021-05-29T14:34:00.523158",
     "status": "completed"
    },
    "tags": []
   },
   "outputs": [
    {
     "name": "stdout",
     "output_type": "stream",
     "text": [
      "/kaggle/input/graduate-admissions/Admission_Predict.csv\n",
      "/kaggle/input/graduate-admissions/Admission_Predict_Ver1.1.csv\n"
     ]
    }
   ],
   "source": [
    "import numpy as np \n",
    "import pandas as pd \n",
    "import matplotlib.pyplot as plt\n",
    "import seaborn as sns\n",
    "\n",
    "import os\n",
    "for dirname, _, filenames in os.walk('/kaggle/input'):\n",
    "    for filename in filenames:\n",
    "        print(os.path.join(dirname, filename))"
   ]
  },
  {
   "cell_type": "code",
   "execution_count": 2,
   "id": "acquired-elder",
   "metadata": {
    "execution": {
     "iopub.execute_input": "2021-05-29T14:34:01.556446Z",
     "iopub.status.busy": "2021-05-29T14:34:01.555711Z",
     "iopub.status.idle": "2021-05-29T14:34:01.572909Z",
     "shell.execute_reply": "2021-05-29T14:34:01.572183Z",
     "shell.execute_reply.started": "2021-05-29T11:28:40.803872Z"
    },
    "papermill": {
     "duration": 0.051771,
     "end_time": "2021-05-29T14:34:01.573121",
     "exception": false,
     "start_time": "2021-05-29T14:34:01.521350",
     "status": "completed"
    },
    "tags": []
   },
   "outputs": [
    {
     "name": "stdout",
     "output_type": "stream",
     "text": [
      "Index(['Serial No.', 'GRE Score', 'TOEFL Score', 'University Rating', 'SOP',\n",
      "       'LOR ', 'CGPA', 'Research', 'Chance of Admit '],\n",
      "      dtype='object')\n"
     ]
    }
   ],
   "source": [
    "df = pd.read_csv(\"../input/graduate-admissions/Admission_Predict.csv\")\n",
    "print (df.columns)"
   ]
  },
  {
   "cell_type": "markdown",
   "id": "japanese-shuttle",
   "metadata": {
    "papermill": {
     "duration": 0.028004,
     "end_time": "2021-05-29T14:34:01.631497",
     "exception": false,
     "start_time": "2021-05-29T14:34:01.603493",
     "status": "completed"
    },
    "tags": []
   },
   "source": [
    "Checking for null values and reset index to \"Serial No.\""
   ]
  },
  {
   "cell_type": "code",
   "execution_count": 3,
   "id": "headed-trade",
   "metadata": {
    "execution": {
     "iopub.execute_input": "2021-05-29T14:34:01.694197Z",
     "iopub.status.busy": "2021-05-29T14:34:01.693409Z",
     "iopub.status.idle": "2021-05-29T14:34:01.712410Z",
     "shell.execute_reply": "2021-05-29T14:34:01.713062Z",
     "shell.execute_reply.started": "2021-05-29T11:28:40.825886Z"
    },
    "papermill": {
     "duration": 0.053257,
     "end_time": "2021-05-29T14:34:01.713278",
     "exception": false,
     "start_time": "2021-05-29T14:34:01.660021",
     "status": "completed"
    },
    "tags": []
   },
   "outputs": [
    {
     "name": "stdout",
     "output_type": "stream",
     "text": [
      "Serial No.           0\n",
      "GRE Score            0\n",
      "TOEFL Score          0\n",
      "University Rating    0\n",
      "SOP                  0\n",
      "LOR                  0\n",
      "CGPA                 0\n",
      "Research             0\n",
      "Chance of Admit      0\n",
      "dtype: int64\n"
     ]
    }
   ],
   "source": [
    "print(df.isnull().sum())\n",
    "df = df.set_index(df[\"Serial No.\"])\n",
    "df = df.drop(\"Serial No.\", axis = 1)"
   ]
  },
  {
   "cell_type": "markdown",
   "id": "light-broad",
   "metadata": {
    "papermill": {
     "duration": 0.028715,
     "end_time": "2021-05-29T14:34:01.773550",
     "exception": false,
     "start_time": "2021-05-29T14:34:01.744835",
     "status": "completed"
    },
    "tags": []
   },
   "source": [
    "Some of the columns seem to have spaces in their names, our code would be more efficient if they were removed. We remove them using the .rename() function."
   ]
  },
  {
   "cell_type": "code",
   "execution_count": 4,
   "id": "metric-budapest",
   "metadata": {
    "execution": {
     "iopub.execute_input": "2021-05-29T14:34:01.836608Z",
     "iopub.status.busy": "2021-05-29T14:34:01.835546Z",
     "iopub.status.idle": "2021-05-29T14:34:01.851939Z",
     "shell.execute_reply": "2021-05-29T14:34:01.851273Z",
     "shell.execute_reply.started": "2021-05-29T13:57:52.166932Z"
    },
    "papermill": {
     "duration": 0.048787,
     "end_time": "2021-05-29T14:34:01.852110",
     "exception": false,
     "start_time": "2021-05-29T14:34:01.803323",
     "status": "completed"
    },
    "tags": []
   },
   "outputs": [
    {
     "name": "stdout",
     "output_type": "stream",
     "text": [
      "            GRE Score  TOEFL Score  University Rating  SOP  LOR  CGPA  \\\n",
      "Serial No.                                                              \n",
      "1                 337          118                  4  4.5  4.5  9.65   \n",
      "2                 324          107                  4  4.0  4.5  8.87   \n",
      "3                 316          104                  3  3.0  3.5  8.00   \n",
      "4                 322          110                  3  3.5  2.5  8.67   \n",
      "5                 314          103                  2  2.0  3.0  8.21   \n",
      "\n",
      "            Research  Chance of Admit  \n",
      "Serial No.                             \n",
      "1                  1             0.92  \n",
      "2                  1             0.76  \n",
      "3                  1             0.72  \n",
      "4                  1             0.80  \n",
      "5                  0             0.65  \n"
     ]
    }
   ],
   "source": [
    "df.rename(columns={'Chance of Admit ': 'Chance of Admit', 'LOR ': 'LOR'}, inplace=True)\n",
    "print(df.head())"
   ]
  },
  {
   "cell_type": "code",
   "execution_count": 5,
   "id": "endless-volleyball",
   "metadata": {
    "execution": {
     "iopub.execute_input": "2021-05-29T14:34:01.933677Z",
     "iopub.status.busy": "2021-05-29T14:34:01.932959Z",
     "iopub.status.idle": "2021-05-29T14:34:02.117332Z",
     "shell.execute_reply": "2021-05-29T14:34:02.116615Z",
     "shell.execute_reply.started": "2021-05-29T14:17:44.443423Z"
    },
    "papermill": {
     "duration": 0.236206,
     "end_time": "2021-05-29T14:34:02.117498",
     "exception": false,
     "start_time": "2021-05-29T14:34:01.881292",
     "status": "completed"
    },
    "tags": []
   },
   "outputs": [
    {
     "data": {
      "image/png": "[encoded data removed]",
      "text/plain": [
       "<Figure size 432x288 with 1 Axes>"
      ]
     },
     "metadata": {
      "needs_background": "light"
     },
     "output_type": "display_data"
    }
   ],
   "source": [
    "plt.scatter(df[\"University Rating\"], df[\"Chance of Admit\"], color = \"tomato\", marker = \"x\")\n",
    "plt.show()"
   ]
  },
  {
   "cell_type": "markdown",
   "id": "judicial-savings",
   "metadata": {
    "papermill": {
     "duration": 0.02956,
     "end_time": "2021-05-29T14:34:02.177074",
     "exception": false,
     "start_time": "2021-05-29T14:34:02.147514",
     "status": "completed"
    },
    "tags": []
   },
   "source": [
    "The plot shows that Universities with a higher ranking tend to have higher chance of acceptance of vice versa."
   ]
  },
  {
   "cell_type": "markdown",
   "id": "noted-fifteen",
   "metadata": {
    "papermill": {
     "duration": 0.029457,
     "end_time": "2021-05-29T14:34:02.236505",
     "exception": false,
     "start_time": "2021-05-29T14:34:02.207048",
     "status": "completed"
    },
    "tags": []
   },
   "source": [
    "Now, a function to check for Outliers. The outliers are then stored in a dictionary. Since the outliers are not very extreme, no specific action is carried out."
   ]
  },
  {
   "cell_type": "code",
   "execution_count": 6,
   "id": "bronze-intersection",
   "metadata": {
    "execution": {
     "iopub.execute_input": "2021-05-29T14:34:02.305178Z",
     "iopub.status.busy": "2021-05-29T14:34:02.304144Z",
     "iopub.status.idle": "2021-05-29T14:34:02.314532Z",
     "shell.execute_reply": "2021-05-29T14:34:02.315007Z",
     "shell.execute_reply.started": "2021-05-29T11:28:40.864487Z"
    },
    "papermill": {
     "duration": 0.048728,
     "end_time": "2021-05-29T14:34:02.315246",
     "exception": false,
     "start_time": "2021-05-29T14:34:02.266518",
     "status": "completed"
    },
    "tags": []
   },
   "outputs": [
    {
     "name": "stdout",
     "output_type": "stream",
     "text": [
      "{'GRE Score': [], 'TOEFL Score': [], 'University Rating': [], 'SOP': [], 'LOR': [1.0], 'CGPA': [6.8], 'Research': [], 'Chance of Admit': [0.34, 0.34]}\n"
     ]
    }
   ],
   "source": [
    "def remove_outliers(column):\n",
    "\n",
    "    q25, q50, q75 = np.percentile(df[column], [25, 70, 75])\n",
    "    iqr = q75 - q25\n",
    "    min = q25 - 1.5 * (iqr)\n",
    "    max = q75 + 1.5 * (iqr)\n",
    "    outliers = [x for x in df[column] if x > max or x < min]\n",
    "    return (column,outliers)\n",
    "\n",
    "\n",
    "outliers_dict={}\n",
    "for column in df.columns:\n",
    "    column, outliers = remove_outliers(column)\n",
    "    outliers_dict.update( {column : outliers} )\n",
    "print(outliers_dict)"
   ]
  },
  {
   "cell_type": "markdown",
   "id": "complimentary-salvation",
   "metadata": {
    "papermill": {
     "duration": 0.029752,
     "end_time": "2021-05-29T14:34:02.375215",
     "exception": false,
     "start_time": "2021-05-29T14:34:02.345463",
     "status": "completed"
    },
    "tags": []
   },
   "source": [
    "To visualize the spotted outliers, we can use boxplots and density maps. These plots also allow us to see how the data is centered and in which specific values the data is more frequent, or rather more dense."
   ]
  },
  {
   "cell_type": "code",
   "execution_count": 7,
   "id": "great-junior",
   "metadata": {
    "execution": {
     "iopub.execute_input": "2021-05-29T14:34:02.482500Z",
     "iopub.status.busy": "2021-05-29T14:34:02.480839Z",
     "iopub.status.idle": "2021-05-29T14:34:04.151164Z",
     "shell.execute_reply": "2021-05-29T14:34:04.151732Z",
     "shell.execute_reply.started": "2021-05-29T11:28:40.882571Z"
    },
    "papermill": {
     "duration": 1.746487,
     "end_time": "2021-05-29T14:34:04.151963",
     "exception": false,
     "start_time": "2021-05-29T14:34:02.405476",
     "status": "completed"
    },
    "tags": []
   },
   "outputs": [
    {
     "data": {
      "text/plain": [
       "<AxesSubplot:xlabel='Chance of Admit', ylabel='LOR'>"
      ]
     },
     "execution_count": 7,
     "metadata": {},
     "output_type": "execute_result"
    },
    {
     "data": {
      "image/png": "[encoded data removed]",
      "text/plain": [
       "<Figure size 432x288 with 1 Axes>"
      ]
     },
     "metadata": {
      "needs_background": "light"
     },
     "output_type": "display_data"
    }
   ],
   "source": [
    "sns.boxplot(y=\"LOR\",x =\"Chance of Admit\",palette=[\"m\"],data=df)\n"
   ]
  },
  {
   "cell_type": "code",
   "execution_count": 8,
   "id": "strong-worcester",
   "metadata": {
    "execution": {
     "iopub.execute_input": "2021-05-29T14:34:04.220504Z",
     "iopub.status.busy": "2021-05-29T14:34:04.219459Z",
     "iopub.status.idle": "2021-05-29T14:34:05.755174Z",
     "shell.execute_reply": "2021-05-29T14:34:05.755712Z",
     "shell.execute_reply.started": "2021-05-29T11:28:42.620986Z"
    },
    "papermill": {
     "duration": 1.571627,
     "end_time": "2021-05-29T14:34:05.755948",
     "exception": false,
     "start_time": "2021-05-29T14:34:04.184321",
     "status": "completed"
    },
    "tags": []
   },
   "outputs": [
    {
     "data": {
      "text/plain": [
       "<AxesSubplot:xlabel='Chance of Admit', ylabel='CGPA'>"
      ]
     },
     "execution_count": 8,
     "metadata": {},
     "output_type": "execute_result"
    },
    {
     "data": {
      "image/png": "[encoded data removed]",
      "text/plain": [
       "<Figure size 432x288 with 1 Axes>"
      ]
     },
     "metadata": {
      "needs_background": "light"
     },
     "output_type": "display_data"
    }
   ],
   "source": [
    "sns.boxplot(y=\"CGPA\",x =\"Chance of Admit\",palette=[\"g\"],data=df)\n"
   ]
  },
  {
   "cell_type": "code",
   "execution_count": 9,
   "id": "pediatric-wells",
   "metadata": {
    "execution": {
     "iopub.execute_input": "2021-05-29T14:34:05.826556Z",
     "iopub.status.busy": "2021-05-29T14:34:05.825876Z",
     "iopub.status.idle": "2021-05-29T14:34:06.755963Z",
     "shell.execute_reply": "2021-05-29T14:34:06.756450Z",
     "shell.execute_reply.started": "2021-05-29T11:28:44.099940Z"
    },
    "papermill": {
     "duration": 0.967231,
     "end_time": "2021-05-29T14:34:06.756678",
     "exception": false,
     "start_time": "2021-05-29T14:34:05.789447",
     "status": "completed"
    },
    "tags": []
   },
   "outputs": [
    {
     "data": {
      "text/plain": [
       "<AxesSubplot:xlabel='LOR', ylabel='Chance of Admit'>"
      ]
     },
     "execution_count": 9,
     "metadata": {},
     "output_type": "execute_result"
    },
    {
     "data": {
      "image/png": "[encoded data removed]",
      "text/plain": [
       "<Figure size 432x288 with 1 Axes>"
      ]
     },
     "metadata": {
      "needs_background": "light"
     },
     "output_type": "display_data"
    }
   ],
   "source": [
    "sns.kdeplot(x = \"LOR\", y = \"Chance of Admit\", data = df, fill = True,thresh=0, levels=100, cmap=\"mako\")"
   ]
  },
  {
   "cell_type": "markdown",
   "id": "unavailable-sheriff",
   "metadata": {
    "papermill": {
     "duration": 0.034167,
     "end_time": "2021-05-29T14:34:06.826738",
     "exception": false,
     "start_time": "2021-05-29T14:34:06.792571",
     "status": "completed"
    },
    "tags": []
   },
   "source": [
    "Here, the plot shows that the data is more dense at values between 3 and 4 for LOR and 0.6-0.8 for chance of admit"
   ]
  },
  {
   "cell_type": "code",
   "execution_count": 10,
   "id": "southwest-thumb",
   "metadata": {
    "execution": {
     "iopub.execute_input": "2021-05-29T14:34:06.900831Z",
     "iopub.status.busy": "2021-05-29T14:34:06.900063Z",
     "iopub.status.idle": "2021-05-29T14:34:07.620459Z",
     "shell.execute_reply": "2021-05-29T14:34:07.619909Z",
     "shell.execute_reply.started": "2021-05-29T11:28:44.796845Z"
    },
    "papermill": {
     "duration": 0.758328,
     "end_time": "2021-05-29T14:34:07.620636",
     "exception": false,
     "start_time": "2021-05-29T14:34:06.862308",
     "status": "completed"
    },
    "tags": []
   },
   "outputs": [
    {
     "data": {
      "text/plain": [
       "<AxesSubplot:xlabel='CGPA', ylabel='Chance of Admit'>"
      ]
     },
     "execution_count": 10,
     "metadata": {},
     "output_type": "execute_result"
    },
    {
     "data": {
      "image/png": "[encoded data removed]",
      "text/plain": [
       "<Figure size 432x288 with 1 Axes>"
      ]
     },
     "metadata": {
      "needs_background": "light"
     },
     "output_type": "display_data"
    }
   ],
   "source": [
    "sns.kdeplot(x = \"CGPA\", y = \"Chance of Admit\", data = df, fill = True,thresh=0, levels=100, cmap=\"mako\")\n"
   ]
  },
  {
   "cell_type": "markdown",
   "id": "developing-investor",
   "metadata": {
    "papermill": {
     "duration": 0.035583,
     "end_time": "2021-05-29T14:34:07.693692",
     "exception": false,
     "start_time": "2021-05-29T14:34:07.658109",
     "status": "completed"
    },
    "tags": []
   },
   "source": [
    "Similarly, here the plot shows that the data is more dense at values between 8.5-9.5 for CGPA and around the region of 0.8 for chance of admit"
   ]
  },
  {
   "cell_type": "code",
   "execution_count": 11,
   "id": "needed-metabolism",
   "metadata": {
    "execution": {
     "iopub.execute_input": "2021-05-29T14:34:07.785360Z",
     "iopub.status.busy": "2021-05-29T14:34:07.784595Z",
     "iopub.status.idle": "2021-05-29T14:34:08.072669Z",
     "shell.execute_reply": "2021-05-29T14:34:08.073205Z",
     "shell.execute_reply.started": "2021-05-29T11:28:45.624105Z"
    },
    "papermill": {
     "duration": 0.342081,
     "end_time": "2021-05-29T14:34:08.073427",
     "exception": false,
     "start_time": "2021-05-29T14:34:07.731346",
     "status": "completed"
    },
    "tags": []
   },
   "outputs": [
    {
     "data": {
      "text/plain": [
       "<AxesSubplot:xlabel='GRE Score', ylabel='TOEFL Score'>"
      ]
     },
     "execution_count": 11,
     "metadata": {},
     "output_type": "execute_result"
    },
    {
     "data": {
      "image/png": "[encoded data removed]",
      "text/plain": [
       "<Figure size 1080x648 with 1 Axes>"
      ]
     },
     "metadata": {
      "needs_background": "light"
     },
     "output_type": "display_data"
    }
   ],
   "source": [
    "plt.figure(figsize=(15, 9))\n",
    "sns.scatterplot(x='GRE Score', y='TOEFL Score', hue='Research', data=df, palette= [\"m\",\"y\"])"
   ]
  },
  {
   "cell_type": "markdown",
   "id": "moderate-particle",
   "metadata": {
    "papermill": {
     "duration": 0.040162,
     "end_time": "2021-05-29T14:34:08.153709",
     "exception": false,
     "start_time": "2021-05-29T14:34:08.113547",
     "status": "completed"
    },
    "tags": []
   },
   "source": [
    "This plot shows that students with higher GRE and TOEFL Scores are more inclined to do research."
   ]
  },
  {
   "cell_type": "code",
   "execution_count": 12,
   "id": "dietary-advocacy",
   "metadata": {
    "execution": {
     "iopub.execute_input": "2021-05-29T14:34:08.236286Z",
     "iopub.status.busy": "2021-05-29T14:34:08.235313Z",
     "iopub.status.idle": "2021-05-29T14:34:09.221124Z",
     "shell.execute_reply": "2021-05-29T14:34:09.220333Z",
     "shell.execute_reply.started": "2021-05-29T11:28:45.899752Z"
    },
    "papermill": {
     "duration": 1.029184,
     "end_time": "2021-05-29T14:34:09.221357",
     "exception": false,
     "start_time": "2021-05-29T14:34:08.192173",
     "status": "completed"
    },
    "tags": []
   },
   "outputs": [
    {
     "data": {
      "image/png": "[encoded data removed]",
      "text/plain": [
       "<Figure size 1080x432 with 1 Axes>"
      ]
     },
     "metadata": {
      "needs_background": "light"
     },
     "output_type": "display_data"
    }
   ],
   "source": [
    "plt.figure(figsize=(15, 6))\n",
    "plt.bar(df[\"GRE Score\"], df[\"Chance of Admit\"], color = \"teal\")\n",
    "plt.title(\"GRE Score and Chance of Acceptance\")\n",
    "plt.xlabel(\"GRE Scores\")\n",
    "plt.ylabel(\"Chance of Acceptance\")\n",
    "plt.show()"
   ]
  },
  {
   "cell_type": "markdown",
   "id": "solved-georgia",
   "metadata": {
    "papermill": {
     "duration": 0.039654,
     "end_time": "2021-05-29T14:34:09.302185",
     "exception": false,
     "start_time": "2021-05-29T14:34:09.262531",
     "status": "completed"
    },
    "tags": []
   },
   "source": [
    "The plot indicates the general trend of increase in rate of admittance with increase in GRE Scores. "
   ]
  },
  {
   "cell_type": "code",
   "execution_count": 13,
   "id": "sunset-jacket",
   "metadata": {
    "execution": {
     "iopub.execute_input": "2021-05-29T14:34:09.417153Z",
     "iopub.status.busy": "2021-05-29T14:34:09.416346Z",
     "iopub.status.idle": "2021-05-29T14:34:09.583573Z",
     "shell.execute_reply": "2021-05-29T14:34:09.584134Z",
     "shell.execute_reply.started": "2021-05-29T11:28:46.821923Z"
    },
    "papermill": {
     "duration": 0.241166,
     "end_time": "2021-05-29T14:34:09.584381",
     "exception": false,
     "start_time": "2021-05-29T14:34:09.343215",
     "status": "completed"
    },
    "tags": []
   },
   "outputs": [
    {
     "data": {
      "text/plain": [
       "<AxesSubplot:xlabel='Chance of Admit', ylabel='Density'>"
      ]
     },
     "execution_count": 13,
     "metadata": {},
     "output_type": "execute_result"
    },
    {
     "data": {
      "image/png": "[encoded data removed]",
      "text/plain": [
       "<Figure size 432x288 with 1 Axes>"
      ]
     },
     "metadata": {
      "needs_background": "light"
     },
     "output_type": "display_data"
    }
   ],
   "source": [
    "sns.kdeplot(\n",
    "   data=df, x=\"Chance of Admit\",hue = \"Research\",\n",
    "   fill=True, common_norm=False, palette=\"crest\",\n",
    "   alpha=.5, linewidth=0,\n",
    ")"
   ]
  },
  {
   "cell_type": "markdown",
   "id": "latest-aviation",
   "metadata": {
    "papermill": {
     "duration": 0.040491,
     "end_time": "2021-05-29T14:34:09.667375",
     "exception": false,
     "start_time": "2021-05-29T14:34:09.626884",
     "status": "completed"
    },
    "tags": []
   },
   "source": [
    "This density plot shows us two things:\n",
    "1. The chance of admit is greater for research students\n",
    "2. Non- research students have around 70% chance of admittance "
   ]
  },
  {
   "cell_type": "markdown",
   "id": "efficient-scope",
   "metadata": {
    "papermill": {
     "duration": 0.041146,
     "end_time": "2021-05-29T14:34:09.748312",
     "exception": false,
     "start_time": "2021-05-29T14:34:09.707166",
     "status": "completed"
    },
    "tags": []
   },
   "source": [
    "Now, we can apply binary encoding to the target column \"Chance of admit\" such that the new variable \"Admitted\" is true if chance of admit is greater than or equal to 0.65 and is false if it is less."
   ]
  },
  {
   "cell_type": "code",
   "execution_count": 14,
   "id": "grateful-parent",
   "metadata": {
    "execution": {
     "iopub.execute_input": "2021-05-29T14:34:09.834530Z",
     "iopub.status.busy": "2021-05-29T14:34:09.833743Z",
     "iopub.status.idle": "2021-05-29T14:34:09.853499Z",
     "shell.execute_reply": "2021-05-29T14:34:09.854088Z",
     "shell.execute_reply.started": "2021-05-29T11:28:47.023535Z"
    },
    "papermill": {
     "duration": 0.064375,
     "end_time": "2021-05-29T14:34:09.854304",
     "exception": false,
     "start_time": "2021-05-29T14:34:09.789929",
     "status": "completed"
    },
    "tags": []
   },
   "outputs": [
    {
     "data": {
      "text/html": [
       "<div>\n",
       "<style scoped>\n",
       "    .dataframe tbody tr th:only-of-type {\n",
       "        vertical-align: middle;\n",
       "    }\n",
       "\n",
       "    .dataframe tbody tr th {\n",
       "        vertical-align: top;\n",
       "    }\n",
       "\n",
       "    .dataframe thead th {\n",
       "        text-align: right;\n",
       "    }\n",
       "</style>\n",
       "<table border=\"1\" class=\"dataframe\">\n",
       "  <thead>\n",
       "    <tr style=\"text-align: right;\">\n",
       "      <th></th>\n",
       "      <th>GRE Score</th>\n",
       "      <th>TOEFL Score</th>\n",
       "      <th>University Rating</th>\n",
       "      <th>SOP</th>\n",
       "      <th>LOR</th>\n",
       "      <th>CGPA</th>\n",
       "      <th>Research</th>\n",
       "      <th>Chance of Admit</th>\n",
       "      <th>Admitted</th>\n",
       "    </tr>\n",
       "    <tr>\n",
       "      <th>Serial No.</th>\n",
       "      <th></th>\n",
       "      <th></th>\n",
       "      <th></th>\n",
       "      <th></th>\n",
       "      <th></th>\n",
       "      <th></th>\n",
       "      <th></th>\n",
       "      <th></th>\n",
       "      <th></th>\n",
       "    </tr>\n",
       "  </thead>\n",
       "  <tbody>\n",
       "    <tr>\n",
       "      <th>1</th>\n",
       "      <td>337</td>\n",
       "      <td>118</td>\n",
       "      <td>4</td>\n",
       "      <td>4.5</td>\n",
       "      <td>4.5</td>\n",
       "      <td>9.65</td>\n",
       "      <td>1</td>\n",
       "      <td>0.92</td>\n",
       "      <td>1</td>\n",
       "    </tr>\n",
       "    <tr>\n",
       "      <th>2</th>\n",
       "      <td>324</td>\n",
       "      <td>107</td>\n",
       "      <td>4</td>\n",
       "      <td>4.0</td>\n",
       "      <td>4.5</td>\n",
       "      <td>8.87</td>\n",
       "      <td>1</td>\n",
       "      <td>0.76</td>\n",
       "      <td>1</td>\n",
       "    </tr>\n",
       "    <tr>\n",
       "      <th>3</th>\n",
       "      <td>316</td>\n",
       "      <td>104</td>\n",
       "      <td>3</td>\n",
       "      <td>3.0</td>\n",
       "      <td>3.5</td>\n",
       "      <td>8.00</td>\n",
       "      <td>1</td>\n",
       "      <td>0.72</td>\n",
       "      <td>1</td>\n",
       "    </tr>\n",
       "    <tr>\n",
       "      <th>4</th>\n",
       "      <td>322</td>\n",
       "      <td>110</td>\n",
       "      <td>3</td>\n",
       "      <td>3.5</td>\n",
       "      <td>2.5</td>\n",
       "      <td>8.67</td>\n",
       "      <td>1</td>\n",
       "      <td>0.80</td>\n",
       "      <td>1</td>\n",
       "    </tr>\n",
       "    <tr>\n",
       "      <th>5</th>\n",
       "      <td>314</td>\n",
       "      <td>103</td>\n",
       "      <td>2</td>\n",
       "      <td>2.0</td>\n",
       "      <td>3.0</td>\n",
       "      <td>8.21</td>\n",
       "      <td>0</td>\n",
       "      <td>0.65</td>\n",
       "      <td>1</td>\n",
       "    </tr>\n",
       "  </tbody>\n",
       "</table>\n",
       "</div>"
      ],
      "text/plain": [
       "            GRE Score  TOEFL Score  University Rating  SOP  LOR  CGPA  \\\n",
       "Serial No.                                                              \n",
       "1                 337          118                  4  4.5  4.5  9.65   \n",
       "2                 324          107                  4  4.0  4.5  8.87   \n",
       "3                 316          104                  3  3.0  3.5  8.00   \n",
       "4                 322          110                  3  3.5  2.5  8.67   \n",
       "5                 314          103                  2  2.0  3.0  8.21   \n",
       "\n",
       "            Research  Chance of Admit  Admitted  \n",
       "Serial No.                                       \n",
       "1                  1             0.92         1  \n",
       "2                  1             0.76         1  \n",
       "3                  1             0.72         1  \n",
       "4                  1             0.80         1  \n",
       "5                  0             0.65         1  "
      ]
     },
     "execution_count": 14,
     "metadata": {},
     "output_type": "execute_result"
    }
   ],
   "source": [
    "def encode_chance(data):\n",
    "    if data >= 0.65:\n",
    "        return 1\n",
    "    else:\n",
    "        return 0\n",
    "df['Admitted'] = df['Chance of Admit'].apply(encode_chance)\n",
    "df.head()"
   ]
  },
  {
   "cell_type": "markdown",
   "id": "constitutional-batman",
   "metadata": {
    "papermill": {
     "duration": 0.040947,
     "end_time": "2021-05-29T14:34:09.936194",
     "exception": false,
     "start_time": "2021-05-29T14:34:09.895247",
     "status": "completed"
    },
    "tags": []
   },
   "source": [
    "To see how many students are admitted:"
   ]
  },
  {
   "cell_type": "code",
   "execution_count": 15,
   "id": "sublime-sponsorship",
   "metadata": {
    "execution": {
     "iopub.execute_input": "2021-05-29T14:34:10.026364Z",
     "iopub.status.busy": "2021-05-29T14:34:10.025632Z",
     "iopub.status.idle": "2021-05-29T14:34:10.032610Z",
     "shell.execute_reply": "2021-05-29T14:34:10.031988Z",
     "shell.execute_reply.started": "2021-05-29T11:28:47.045388Z"
    },
    "papermill": {
     "duration": 0.053656,
     "end_time": "2021-05-29T14:34:10.032809",
     "exception": false,
     "start_time": "2021-05-29T14:34:09.979153",
     "status": "completed"
    },
    "tags": []
   },
   "outputs": [
    {
     "name": "stdout",
     "output_type": "stream",
     "text": [
      "287\n",
      "(400, 9)\n"
     ]
    }
   ],
   "source": [
    "print(df[\"Admitted\"].sum())\n",
    "print(df.shape)"
   ]
  },
  {
   "cell_type": "markdown",
   "id": "sitting-enclosure",
   "metadata": {
    "papermill": {
     "duration": 0.041879,
     "end_time": "2021-05-29T14:34:10.117259",
     "exception": false,
     "start_time": "2021-05-29T14:34:10.075380",
     "status": "completed"
    },
    "tags": []
   },
   "source": [
    "With a probability threshold of 0.65, we get 287 / 400 admitted. To lower the number of admitted students, we may increase the threshold. But for now, let's analyze the admittance in relation to the attributes in our dataset."
   ]
  },
  {
   "cell_type": "code",
   "execution_count": 16,
   "id": "natural-witch",
   "metadata": {
    "execution": {
     "iopub.execute_input": "2021-05-29T14:34:10.209580Z",
     "iopub.status.busy": "2021-05-29T14:34:10.208815Z",
     "iopub.status.idle": "2021-05-29T14:34:10.892457Z",
     "shell.execute_reply": "2021-05-29T14:34:10.893029Z",
     "shell.execute_reply.started": "2021-05-29T11:28:47.054414Z"
    },
    "papermill": {
     "duration": 0.731977,
     "end_time": "2021-05-29T14:34:10.893273",
     "exception": false,
     "start_time": "2021-05-29T14:34:10.161296",
     "status": "completed"
    },
    "tags": []
   },
   "outputs": [
    {
     "data": {
      "text/plain": [
       "<AxesSubplot:>"
      ]
     },
     "execution_count": 16,
     "metadata": {},
     "output_type": "execute_result"
    },
    {
     "data": {
      "image/png": "[encoded data removed]",
      "text/plain": [
       "<Figure size 432x288 with 2 Axes>"
      ]
     },
     "metadata": {
      "needs_background": "light"
     },
     "output_type": "display_data"
    }
   ],
   "source": [
    "sns.heatmap(df.corr(), annot=True)"
   ]
  },
  {
   "cell_type": "markdown",
   "id": "searching-expansion",
   "metadata": {
    "papermill": {
     "duration": 0.045454,
     "end_time": "2021-05-29T14:34:10.982546",
     "exception": false,
     "start_time": "2021-05-29T14:34:10.937092",
     "status": "completed"
    },
    "tags": []
   },
   "source": [
    "The correlation plot shows the GRE, TOEFL Scores and CGPA play the major roles in deciding admittance to a college."
   ]
  },
  {
   "cell_type": "code",
   "execution_count": 17,
   "id": "loved-shelf",
   "metadata": {
    "execution": {
     "iopub.execute_input": "2021-05-29T14:34:11.078825Z",
     "iopub.status.busy": "2021-05-29T14:34:11.078044Z",
     "iopub.status.idle": "2021-05-29T14:34:11.087496Z",
     "shell.execute_reply": "2021-05-29T14:34:11.088258Z",
     "shell.execute_reply.started": "2021-05-29T14:15:20.640284Z"
    },
    "papermill": {
     "duration": 0.06245,
     "end_time": "2021-05-29T14:34:11.088530",
     "exception": false,
     "start_time": "2021-05-29T14:34:11.026080",
     "status": "completed"
    },
    "tags": []
   },
   "outputs": [
    {
     "name": "stdout",
     "output_type": "stream",
     "text": [
      "133\n",
      "55\n"
     ]
    }
   ],
   "source": [
    "my_df = df.copy()\n",
    "my_df[\"University Rating\"] = df.loc[df[\"University Rating\"] < 3.0]\n",
    "my_df = my_df.dropna()\n",
    "print(len(my_df))\n",
    "print(my_df.Admitted.sum())"
   ]
  },
  {
   "cell_type": "markdown",
   "id": "upper-browse",
   "metadata": {
    "papermill": {
     "duration": 0.042582,
     "end_time": "2021-05-29T14:34:11.174957",
     "exception": false,
     "start_time": "2021-05-29T14:34:11.132375",
     "status": "completed"
    },
    "tags": []
   },
   "source": [
    "Therefore admittance in a university with ranking less than 3.0 can be said to have a probability of 55/133 = 0.413\n",
    "If X is the random variable representing \"The number of students accepted in a university with ranking less than 3\", then X ~ B(133, 0.413)\n",
    "\n",
    "Hypothesis 3: Most of the students choose Universities woth ranking less than 3.0 as their \"safety colleges\", meaning that they are more likely to be accepted in these universities. In a sample of 100 students, how close to 80% is their likelihood of getting into a safety college?\n",
    "\n",
    "H0: 80% or more students get admitted<br>\n",
    "H1: Less than 80% students get admitted"
   ]
  },
  {
   "cell_type": "code",
   "execution_count": 18,
   "id": "cutting-dietary",
   "metadata": {
    "execution": {
     "iopub.execute_input": "2021-05-29T14:34:11.273438Z",
     "iopub.status.busy": "2021-05-29T14:34:11.272451Z",
     "iopub.status.idle": "2021-05-29T14:34:11.283800Z",
     "shell.execute_reply": "2021-05-29T14:34:11.284585Z",
     "shell.execute_reply.started": "2021-05-29T14:28:20.910842Z"
    },
    "papermill": {
     "duration": 0.067128,
     "end_time": "2021-05-29T14:34:11.284862",
     "exception": false,
     "start_time": "2021-05-29T14:34:11.217734",
     "status": "completed"
    },
    "tags": []
   },
   "outputs": [
    {
     "name": "stdout",
     "output_type": "stream",
     "text": [
      "Null rejected\n"
     ]
    }
   ],
   "source": [
    "siglevel = 0.05\n",
    "from scipy.stats import binom\n",
    "\n",
    "prob = 1 - binom.cdf(80, 100, 0.413)\n",
    "if prob > siglevel:\n",
    "    print(\" Null accepted\")\n",
    "else: \n",
    "    print(\"Null rejected\")\n"
   ]
  },
  {
   "cell_type": "markdown",
   "id": "supreme-processing",
   "metadata": {
    "papermill": {
     "duration": 0.04759,
     "end_time": "2021-05-29T14:34:11.397481",
     "exception": false,
     "start_time": "2021-05-29T14:34:11.349891",
     "status": "completed"
    },
    "tags": []
   },
   "source": [
    "The test shows evidence to suggest that less than 80% of the students get admitted. The null hypothesis here is rejected."
   ]
  },
  {
   "cell_type": "code",
   "execution_count": 19,
   "id": "going-heather",
   "metadata": {
    "execution": {
     "iopub.execute_input": "2021-05-29T14:34:11.491046Z",
     "iopub.status.busy": "2021-05-29T14:34:11.490340Z",
     "iopub.status.idle": "2021-05-29T14:34:11.522446Z",
     "shell.execute_reply": "2021-05-29T14:34:11.521866Z",
     "shell.execute_reply.started": "2021-05-29T13:09:45.436689Z"
    },
    "papermill": {
     "duration": 0.080151,
     "end_time": "2021-05-29T14:34:11.522592",
     "exception": false,
     "start_time": "2021-05-29T14:34:11.442441",
     "status": "completed"
    },
    "tags": []
   },
   "outputs": [],
   "source": [
    "df2 = df.copy()\n",
    "def add_deviation_feature(X, category, feature):\n",
    "    category_gb = X.groupby(category)[feature]\n",
    "    category_mean = category_gb.transform(lambda x: x.mean())\n",
    "    category_std = category_gb.transform(lambda x: x.std())\n",
    "    \n",
    "    deviation_feature = (X[feature] - category_mean)/ category_std\n",
    "    X[feature + \"_Dev_\"] = deviation_feature\n",
    "\n",
    "add_deviation_feature(df2, \"Admitted\", \"TOEFL Score\")\n",
    "add_deviation_feature(df2, \"Admitted\", \"GRE Score\")\n",
    "add_deviation_feature(df2, \"Admitted\", \"CGPA\")\n",
    "df2 = df2.drop(\"University Rating\", axis = 1)"
   ]
  },
  {
   "cell_type": "code",
   "execution_count": 20,
   "id": "deluxe-nerve",
   "metadata": {
    "execution": {
     "iopub.execute_input": "2021-05-29T14:34:11.623990Z",
     "iopub.status.busy": "2021-05-29T14:34:11.623147Z",
     "iopub.status.idle": "2021-05-29T14:34:11.627847Z",
     "shell.execute_reply": "2021-05-29T14:34:11.628321Z",
     "shell.execute_reply.started": "2021-05-29T13:48:54.702249Z"
    },
    "papermill": {
     "duration": 0.063039,
     "end_time": "2021-05-29T14:34:11.628496",
     "exception": false,
     "start_time": "2021-05-29T14:34:11.565457",
     "status": "completed"
    },
    "tags": []
   },
   "outputs": [
    {
     "name": "stdout",
     "output_type": "stream",
     "text": [
      "8.61\n",
      "316.8075\n",
      "11.473646113500475\n",
      "Admitted\n",
      "0      8\n",
      "1    194\n",
      "Name: CGPA, dtype: int64\n"
     ]
    }
   ],
   "source": [
    "df3 = df2.copy()\n",
    "print(df3[\"CGPA\"].median())\n",
    "print(df3[\"GRE Score\"].mean())\n",
    "print(df3[\"GRE Score\"].std())\n",
    "df3[\"CGPA\"] = df2.loc[df2[\"CGPA\"] >= 8.6]\n",
    "df3 = df3.dropna()\n",
    "df3 = df3.groupby(by = \"Admitted\")\n",
    "print(df3.CGPA.count())"
   ]
  },
  {
   "cell_type": "markdown",
   "id": "improving-buffer",
   "metadata": {
    "papermill": {
     "duration": 0.042764,
     "end_time": "2021-05-29T14:34:11.715308",
     "exception": false,
     "start_time": "2021-05-29T14:34:11.672544",
     "status": "completed"
    },
    "tags": []
   },
   "source": [
    "Among 202 students who scored a CGPA greater than the median value of 8.61, 194 were admitted. Thus the chance of rejection here can be said to be 8/202 = 0.034.\n",
    "\n",
    " <br> \n",
    "\n",
    "**Hypotheses 1: If the rejection probabilty prevails for all students, even a quarter of the students may not be accepted<br>**\n",
    " <br>\n",
    "Let X be the random variable \"The number of students who are accepted\"<br> \n",
    "X ~ B(100, 0.034) <br>\n",
    "H0( The null hypothesis) : Quarter or more of the students are rejected<br> \n",
    "The alternate hypothesis: Less than quarter are rejected <br>\n",
    "We test this with a significance level of 10%"
   ]
  },
  {
   "cell_type": "code",
   "execution_count": 21,
   "id": "flying-worthy",
   "metadata": {
    "execution": {
     "iopub.execute_input": "2021-05-29T14:34:11.813018Z",
     "iopub.status.busy": "2021-05-29T14:34:11.811784Z",
     "iopub.status.idle": "2021-05-29T14:34:11.818955Z",
     "shell.execute_reply": "2021-05-29T14:34:11.819564Z",
     "shell.execute_reply.started": "2021-05-29T13:30:54.720971Z"
    },
    "papermill": {
     "duration": 0.06069,
     "end_time": "2021-05-29T14:34:11.819854",
     "exception": false,
     "start_time": "2021-05-29T14:34:11.759164",
     "status": "completed"
    },
    "tags": []
   },
   "outputs": [
    {
     "name": "stdout",
     "output_type": "stream",
     "text": [
      "probabilty of less than quarter rejected 0.9999999999999999\n",
      "probabilty of quarter or more than quarter rejected 1.1432901296154554e-56\n",
      " Null Rejected\n"
     ]
    }
   ],
   "source": [
    "from scipy.stats import binom\n",
    "\n",
    "siglevel = 0.10\n",
    "prob = binom.cdf(99, 400, 0.034)\n",
    "print(\"probabilty of less than quarter rejected\", prob)\n",
    "prob2 = binom.sf(100, 400, 0.034)\n",
    "print(\"probabilty of quarter or more than quarter rejected\", prob2)\n",
    "\n",
    "if prob2 > siglevel:\n",
    "    print( \"Null Accepted\")\n",
    "else: \n",
    "    print(\" Null Rejected\")\n"
   ]
  },
  {
   "cell_type": "markdown",
   "id": "auburn-saying",
   "metadata": {
    "papermill": {
     "duration": 0.045818,
     "end_time": "2021-05-29T14:34:11.911543",
     "exception": false,
     "start_time": "2021-05-29T14:34:11.865725",
     "status": "completed"
    },
    "tags": []
   },
   "source": [
    "If the rejection probability prevails in the entire dataset, Evidence shows that, Quarter or more of the students are not rejected. Here, the null hypothesis stands True."
   ]
  },
  {
   "cell_type": "markdown",
   "id": "arranged-advancement",
   "metadata": {
    "papermill": {
     "duration": 0.049179,
     "end_time": "2021-05-29T14:34:12.010381",
     "exception": false,
     "start_time": "2021-05-29T14:34:11.961202",
     "status": "completed"
    },
    "tags": []
   },
   "source": [
    "**Hypothesis 2 : The number of samples taken influences the distribution of the samples.** <br>\n",
    " <br>\n",
    "The null hypothesis: The number of samples does not affect the distribution of the sample. <br>\n",
    "The alternate hypothesis: The number of samples taken affects the distribution of the sample <br>\n",
    "The hypothesis is tested at a significance level of 5% "
   ]
  },
  {
   "cell_type": "code",
   "execution_count": 22,
   "id": "consistent-disorder",
   "metadata": {
    "execution": {
     "iopub.execute_input": "2021-05-29T14:34:12.122700Z",
     "iopub.status.busy": "2021-05-29T14:34:12.122004Z",
     "iopub.status.idle": "2021-05-29T14:34:12.126322Z",
     "shell.execute_reply": "2021-05-29T14:34:12.126827Z",
     "shell.execute_reply.started": "2021-05-29T12:35:53.591535Z"
    },
    "papermill": {
     "duration": 0.064517,
     "end_time": "2021-05-29T14:34:12.127051",
     "exception": false,
     "start_time": "2021-05-29T14:34:12.062534",
     "status": "completed"
    },
    "tags": []
   },
   "outputs": [
    {
     "name": "stdout",
     "output_type": "stream",
     "text": [
      "-0.7389255608356471 0.4606802989412728\n",
      "stat = -0.739, p = 0.461\n",
      "Same distribution\n"
     ]
    }
   ],
   "source": [
    "from scipy.stats import ttest_ind\n",
    "data1 = df2.sample(n = 40, replace = False)[\"GRE Score\"]\n",
    "data2 = df2.sample(n = 200, replace = False)[\"GRE Score\"]\n",
    "stat, p = ttest_ind(data1, data2)\n",
    "print(stat, p)\n",
    "print('stat = %.3f, p = %.3f' % (stat, p))\n",
    "if p > 0.05:\n",
    "    print('Same distribution')\n",
    "else:\n",
    "    print('Different distributions')"
   ]
  },
  {
   "cell_type": "markdown",
   "id": "preceding-bradford",
   "metadata": {
    "papermill": {
     "duration": 0.045715,
     "end_time": "2021-05-29T14:34:12.217504",
     "exception": false,
     "start_time": "2021-05-29T14:34:12.171789",
     "status": "completed"
    },
    "tags": []
   },
   "source": [
    "The hypothesis test shows that the number of samples does not affect the distribution of the sample. The null hypothesis is accepted.\n"
   ]
  }
 ],
 "metadata": {
  "kernelspec": {
   "display_name": "Python 3",
   "language": "python",
   "name": "python3"
  },
  "language_info": {
   "codemirror_mode": {
    "name": "ipython",
    "version": 3
   },
   "file_extension": ".py",
   "mimetype": "text/x-python",
   "name": "python",
   "nbconvert_exporter": "python",
   "pygments_lexer": "ipython3",
   "version": "3.7.10"
  },
  "papermill": {
   "default_parameters": {},
   "duration": 21.901194,
   "end_time": "2021-05-29T14:34:13.759268",
   "environment_variables": {},
   "exception": null,
   "input_path": "__notebook__.ipynb",
   "output_path": "__notebook__.ipynb",
   "parameters": {},
   "start_time": "2021-05-29T14:33:51.858074",
   "version": "2.3.3"
  }
 },
 "nbformat": 4,
 "nbformat_minor": 5
}
